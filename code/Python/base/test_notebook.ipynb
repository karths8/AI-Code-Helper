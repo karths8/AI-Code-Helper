{
 "cells": [
  {
   "cell_type": "markdown",
   "id": "840f8b3a-dad7-4aa9-83b3-84b51f57dd6a",
   "metadata": {},
   "source": [
    "# Hints\n",
    "1. You can use `print(i, end=\"\")` if we want to ensure that the print statement does not end with a new line. The default value of end is a newline (`\"\\n\"`), but you may change it to `\"\"` (empty string) or `\" \"` (space) as per your use case. Just using `print()` will print an empty newline.\n",
    "<!-- 2. You can use a range with negative steps to go in reverse order. For example, `range(5,0,-1)` goes from 5,4,... all the way till 1 -->\n"
   ]
  },
  {
   "cell_type": "code",
   "execution_count": null,
   "id": "00a3d786-b061-4d2d-91ae-7295b4bd5ce8",
   "metadata": {},
   "outputs": [],
   "source": [
    "from tester import run_tests"
   ]
  },
  {
   "cell_type": "markdown",
   "id": "6e96196c-3bd6-43f6-8ebc-c4ead1738969",
   "metadata": {
    "deletable": false
   },
   "source": [
    "# Q1\n",
    "Write a function called `triangle_pattern()` that takes `n` (greater than 0) as an integer parameter and outputs the pattern below. This will only involve using loops, conditionals, variables and some logic from your side. Example input/ouput and starter code is given below."
   ]
  },
  {
   "cell_type": "raw",
   "id": "8976f9cc-b38c-4a19-8053-98127bfdc711",
   "metadata": {
    "deletable": false,
    "raw_mimetype": "",
    "slideshow": {
     "slide_type": ""
    },
    "tags": []
   },
   "source": [
    "Some example input and outputs for Q1 are given below:\n",
    "\n",
    "Input: \n",
    "n = 3\n",
    "Output:\n",
    "***\n",
    " **\n",
    "  *\n",
    "\n",
    "Input: \n",
    "n = 5\n",
    "Output:\n",
    "*****\n",
    " ****\n",
    "  ***\n",
    "   **\n",
    "    *\n"
   ]
  },
  {
   "cell_type": "code",
   "execution_count": null,
   "id": "9f0ecdde-e6ce-4414-adba-eb1dd83507b0",
   "metadata": {
    "editable": true,
    "slideshow": {
     "slide_type": ""
    },
    "tags": []
   },
   "outputs": [],
   "source": [
    "#q1\n",
    "# Starter Code. TODO: Solve the above question. Do not modify the function names\n",
    "def triangle_pattern(n: int):\n",
    "    # Your code here\n",
    "    pass"
   ]
  },
  {
   "cell_type": "code",
   "execution_count": null,
   "id": "44dbcc67-03a7-4123-904a-4910f1b76796",
   "metadata": {},
   "outputs": [],
   "source": [
    "# see tester output in notebook\n",
    "run_tests(\"Q1\", triangle_pattern)"
   ]
  },
  {
   "cell_type": "markdown",
   "id": "61dd9f4c-2c9f-46d9-a277-e7144685f53b",
   "metadata": {
    "deletable": false,
    "slideshow": {
     "slide_type": ""
    },
    "tags": []
   },
   "source": [
    "# Q2\n",
    "Write a function called `shear_pattern()` that takes `n` (greater than 0) as an integer parameter and outputs the pattern below. This will only involve using loops, conditionals, variables and some logic from your side. Starter code is given for you. Example input/ouput and starter code is given below."
   ]
  },
  {
   "cell_type": "raw",
   "id": "03a0ae93-0054-4f0b-be1e-50d4ed69b039",
   "metadata": {
    "deletable": false,
    "raw_mimetype": "",
    "slideshow": {
     "slide_type": ""
    },
    "tags": []
   },
   "source": [
    "Some example input and outputs for Q2 are given below:\n",
    "\n",
    "Input:\n",
    "n = 1\n",
    "Output:\n",
    "1\n",
    "\n",
    "Input:\n",
    "n = 3\n",
    "Output:\n",
    "1 3 5 \n",
    " 1 3 5 \n",
    "  1 3 5\n",
    "\n",
    "Input:\n",
    "n = 5\n",
    "Output:\n",
    "1 3 5 7 9 \n",
    " 1 3 5 7 9 \n",
    "  1 3 5 7 9 \n",
    "   1 3 5 7 9 \n",
    "    1 3 5 7 9\n"
   ]
  },
  {
   "cell_type": "code",
   "execution_count": null,
   "id": "31c908d7-66a5-405d-907f-c05b3c6065ff",
   "metadata": {},
   "outputs": [],
   "source": [
    "#q2\n",
    "# Starter Code. TODO: Solve the above question. Do not modify the function names\n",
    "def shear_pattern(n: int):\n",
    "    # Your code here\n",
    "    pass"
   ]
  },
  {
   "cell_type": "code",
   "execution_count": null,
   "id": "e01af088-c6c5-4282-a3e0-25d076cb838c",
   "metadata": {},
   "outputs": [],
   "source": [
    "# see tester output in notebook\n",
    "run_tests(\"Q2\", shear_pattern)"
   ]
  },
  {
   "cell_type": "markdown",
   "id": "16d4b2db-d8ed-4575-9d7e-351f22b88c21",
   "metadata": {
    "slideshow": {
     "slide_type": ""
    },
    "tags": []
   },
   "source": [
    "# Q3\n",
    "Write a function called `right_pyramid_pattern()` that takes `n` (greater than 0) as an integer parameter and outputs the pattern below. This will only involve using loops, conditionals, variables and some logic from your side. Example input/ouput and starter code is given below."
   ]
  },
  {
   "cell_type": "raw",
   "id": "a390e094-26c9-460a-8f0e-ddc8bf471cfb",
   "metadata": {
    "raw_mimetype": "",
    "slideshow": {
     "slide_type": ""
    },
    "tags": []
   },
   "source": [
    "Some example input and outputs for Q3 are given below:\n",
    "\n",
    "Input:\n",
    "n = 4\n",
    "Output:\n",
    "1\n",
    "1 3\n",
    "1 3 5\n",
    "1 3 5 7\n",
    "1 3 5\n",
    "1 3\n",
    "1\n",
    "\n",
    "Input:\n",
    "n = 5\n",
    "Output:\n",
    "1\n",
    "1 3\n",
    "1 3 5\n",
    "1 3 5 7\n",
    "1 3 5 7 9\n",
    "1 3 5 7\n",
    "1 3 5\n",
    "1 3\n",
    "1"
   ]
  },
  {
   "cell_type": "code",
   "execution_count": null,
   "id": "3fc1bdd6-3ed3-466b-b13c-f76ad10e725c",
   "metadata": {},
   "outputs": [],
   "source": [
    "#q3\n",
    "# Starter Code. TODO: Solve the above question. Do not modify the function names\n",
    "def right_pyramid_pattern(n: int):\n",
    "    # Your code here\n",
    "    pass"
   ]
  },
  {
   "cell_type": "code",
   "execution_count": null,
   "id": "6dba0932-c938-4cb4-83de-f00f54c997ac",
   "metadata": {},
   "outputs": [],
   "source": [
    "run_tests(\"Q3\", right_pyramid_pattern)"
   ]
  },
  {
   "cell_type": "code",
   "execution_count": null,
   "id": "84372bfd-6f00-4c1e-a69f-2ffe3f414250",
   "metadata": {},
   "outputs": [],
   "source": []
  }
 ],
 "metadata": {
  "kernelspec": {
   "display_name": "Python 3 (ipykernel)",
   "language": "python",
   "name": "python3"
  },
  "language_info": {
   "codemirror_mode": {
    "name": "ipython",
    "version": 3
   },
   "file_extension": ".py",
   "mimetype": "text/x-python",
   "name": "python",
   "nbconvert_exporter": "python",
   "pygments_lexer": "ipython3",
   "version": "3.10.12"
  }
 },
 "nbformat": 4,
 "nbformat_minor": 5
}
